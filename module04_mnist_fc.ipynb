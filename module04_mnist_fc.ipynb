{
 "cells": [
  {
   "cell_type": "markdown",
   "metadata": {},
   "source": [
    "# Классификация изображений"
   ]
  },
  {
   "cell_type": "code",
   "execution_count": 12,
   "metadata": {
    "colab": {},
    "colab_type": "code",
    "id": "DWr6cvb9pS3J"
   },
   "outputs": [],
   "source": [
    "import torch\n",
    "import random\n",
    "import numpy as np\n",
    "\n",
    "#нужно вызывать каждый раз для воспроизводимости обучения нейронной сети\n",
    "def seed_init():\n",
    "    random.seed(0)\n",
    "    np.random.seed(0)\n",
    "    torch.manual_seed(0)\n",
    "    torch.cuda.manual_seed(0)\n",
    "    torch.backends.cudnn.deterministic = False\n",
    "    \n",
    "seed_init()"
   ]
  },
  {
   "cell_type": "code",
   "execution_count": 13,
   "metadata": {
    "colab": {},
    "colab_type": "code",
    "id": "MqGQWTDIpS3R"
   },
   "outputs": [],
   "source": [
    "import torchvision.datasets\n",
    "MNIST_train = torchvision.datasets.MNIST('./', download=True, train=True)\n",
    "MNIST_test = torchvision.datasets.MNIST('./', download=True, train=False)"
   ]
  },
  {
   "cell_type": "code",
   "execution_count": 14,
   "metadata": {
    "colab": {},
    "colab_type": "code",
    "id": "vv_Lz7PYpS3U"
   },
   "outputs": [
    {
     "name": "stderr",
     "output_type": "stream",
     "text": [
      "/home/rv/anaconda3/lib/python3.7/site-packages/torchvision/datasets/mnist.py:55: UserWarning: train_data has been renamed data\n",
      "  warnings.warn(\"train_data has been renamed data\")\n",
      "/home/rv/anaconda3/lib/python3.7/site-packages/torchvision/datasets/mnist.py:45: UserWarning: train_labels has been renamed targets\n",
      "  warnings.warn(\"train_labels has been renamed targets\")\n",
      "/home/rv/anaconda3/lib/python3.7/site-packages/torchvision/datasets/mnist.py:60: UserWarning: test_data has been renamed data\n",
      "  warnings.warn(\"test_data has been renamed data\")\n",
      "/home/rv/anaconda3/lib/python3.7/site-packages/torchvision/datasets/mnist.py:50: UserWarning: test_labels has been renamed targets\n",
      "  warnings.warn(\"test_labels has been renamed targets\")\n"
     ]
    }
   ],
   "source": [
    "X_train = MNIST_train.train_data\n",
    "y_train = MNIST_train.train_labels\n",
    "X_test = MNIST_test.test_data\n",
    "y_test = MNIST_test.test_labels"
   ]
  },
  {
   "cell_type": "code",
   "execution_count": 15,
   "metadata": {
    "colab": {
     "base_uri": "https://localhost:8080/",
     "height": 35
    },
    "colab_type": "code",
    "id": "hMhsAedlrQF5",
    "outputId": "ae08bd21-79ff-48da-9886-48996a178110"
   },
   "outputs": [
    {
     "data": {
      "text/plain": [
       "(torch.uint8, torch.int64)"
      ]
     },
     "execution_count": 15,
     "metadata": {},
     "output_type": "execute_result"
    }
   ],
   "source": [
    "X_train.dtype, y_train.dtype"
   ]
  },
  {
   "cell_type": "markdown",
   "metadata": {},
   "source": [
    "Приводим к float"
   ]
  },
  {
   "cell_type": "code",
   "execution_count": 16,
   "metadata": {
    "colab": {},
    "colab_type": "code",
    "id": "_yTaVOrPvap6"
   },
   "outputs": [],
   "source": [
    "X_train = X_train.float()\n",
    "X_test = X_test.float()"
   ]
  },
  {
   "cell_type": "code",
   "execution_count": 17,
   "metadata": {
    "colab": {
     "base_uri": "https://localhost:8080/",
     "height": 35
    },
    "colab_type": "code",
    "id": "_gfupg4kpS3X",
    "outputId": "e72c3ff4-50f7-4695-d5d5-f838e7ac2667"
   },
   "outputs": [
    {
     "data": {
      "text/plain": [
       "(torch.Size([60000, 28, 28]), torch.Size([10000, 28, 28]))"
      ]
     },
     "execution_count": 17,
     "metadata": {},
     "output_type": "execute_result"
    }
   ],
   "source": [
    "X_train.shape, X_test.shape"
   ]
  },
  {
   "cell_type": "code",
   "execution_count": 18,
   "metadata": {
    "colab": {
     "base_uri": "https://localhost:8080/",
     "height": 35
    },
    "colab_type": "code",
    "id": "zEC1RXBEz_SW",
    "outputId": "48b9a605-2622-4188-b326-116b675bd499"
   },
   "outputs": [
    {
     "data": {
      "text/plain": [
       "(torch.Size([60000]), torch.Size([10000]))"
      ]
     },
     "execution_count": 18,
     "metadata": {},
     "output_type": "execute_result"
    }
   ],
   "source": [
    "y_train.shape, y_test.shape"
   ]
  },
  {
   "cell_type": "code",
   "execution_count": 19,
   "metadata": {
    "colab": {
     "base_uri": "https://localhost:8080/",
     "height": 365
    },
    "colab_type": "code",
    "id": "Z1tFXMwJpS3e",
    "outputId": "e7c2778b-d6f5-4718-ea28-fc8544f0416c"
   },
   "outputs": [
    {
     "data": {
      "image/png": "[encoded data removed]",
      "text/plain": [
       "<Figure size 432x288 with 1 Axes>"
      ]
     },
     "metadata": {
      "needs_background": "light"
     },
     "output_type": "display_data"
    },
    {
     "name": "stdout",
     "output_type": "stream",
     "text": [
      "tensor(5)\n"
     ]
    }
   ],
   "source": [
    "import matplotlib.pyplot as plt\n",
    "plt.imshow(X_train[0, :, :])\n",
    "plt.show()\n",
    "print(y_train[0])"
   ]
  },
  {
   "cell_type": "markdown",
   "metadata": {},
   "source": [
    "Растягиевает трёхмерный тензор в двухмерный (пиксели в \"строчку\" для каждой цифры (теряем инфу о расположении)."
   ]
  },
  {
   "cell_type": "code",
   "execution_count": 20,
   "metadata": {
    "colab": {},
    "colab_type": "code",
    "id": "IUZgNg7zpS3j"
   },
   "outputs": [],
   "source": [
    "X_train = X_train.reshape([-1, 28 * 28])\n",
    "X_test = X_test.reshape([-1, 28 * 28])"
   ]
  },
  {
   "cell_type": "markdown",
   "metadata": {},
   "source": [
    "## Нейронная сеть"
   ]
  },
  {
   "cell_type": "code",
   "execution_count": 21,
   "metadata": {
    "colab": {},
    "colab_type": "code",
    "id": "k7l65slppS3l"
   },
   "outputs": [],
   "source": [
    "class MNISTNet(torch.nn.Module):\n",
    "    def __init__(self, n_hidden_neurons):\n",
    "        super(MNISTNet, self).__init__()\n",
    "        self.fc1 = torch.nn.Linear(28 * 28, n_hidden_neurons)\n",
    "        self.ac1 = torch.nn.Sigmoid()\n",
    "        self.fc2 = torch.nn.Linear(n_hidden_neurons, 10) \n",
    "    \n",
    "    def forward(self, x):\n",
    "        x = self.fc1(x)\n",
    "        x = self.ac1(x)\n",
    "        x = self.fc2(x)\n",
    "        return x\n",
    "    \n",
    "mnist_net = MNISTNet(100)"
   ]
  },
  {
   "cell_type": "markdown",
   "metadata": {},
   "source": [
    "## Перевод на видеокарту"
   ]
  },
  {
   "cell_type": "code",
   "execution_count": 22,
   "metadata": {
    "colab": {},
    "colab_type": "code",
    "id": "FJp7t3dR0pC5"
   },
   "outputs": [
    {
     "data": {
      "text/plain": [
       "False"
      ]
     },
     "execution_count": 22,
     "metadata": {},
     "output_type": "execute_result"
    }
   ],
   "source": [
    "torch.cuda.is_available()"
   ]
  },
  {
   "cell_type": "code",
   "execution_count": 23,
   "metadata": {
    "colab": {},
    "colab_type": "code",
    "id": "ShQDv_w-0rz8"
   },
   "outputs": [
    {
     "name": "stdout",
     "output_type": "stream",
     "text": [
      "Failed to initialize NVML: Driver/library version mismatch\r\n"
     ]
    }
   ],
   "source": [
    "!nvidia-smi"
   ]
  },
  {
   "cell_type": "code",
   "execution_count": 24,
   "metadata": {
    "colab": {},
    "colab_type": "code",
    "id": "iUHy-780po9d"
   },
   "outputs": [
    {
     "data": {
      "text/plain": [
       "[Parameter containing:\n",
       " tensor([[-0.0003,  0.0192, -0.0294,  ...,  0.0219,  0.0037,  0.0021],\n",
       "         [-0.0198, -0.0150, -0.0104,  ..., -0.0203, -0.0060, -0.0299],\n",
       "         [-0.0201,  0.0149, -0.0333,  ..., -0.0203,  0.0012,  0.0080],\n",
       "         ...,\n",
       "         [ 0.0221,  0.0258, -0.0088,  ..., -0.0141,  0.0051, -0.0318],\n",
       "         [-0.0217, -0.0136,  0.0185,  ..., -0.0012, -0.0012, -0.0017],\n",
       "         [ 0.0142,  0.0089, -0.0053,  ...,  0.0311, -0.0181,  0.0020]],\n",
       "        requires_grad=True), Parameter containing:\n",
       " tensor([-3.5402e-02,  1.8178e-02, -2.1709e-02, -1.1839e-02,  4.8722e-03,\n",
       "         -1.0492e-02, -1.9008e-02,  2.6994e-02, -3.4899e-02,  1.0381e-02,\n",
       "         -3.5228e-02, -5.6381e-03, -2.0134e-02, -3.0264e-02, -1.3289e-02,\n",
       "          2.5346e-02, -1.0797e-02,  2.1568e-03,  4.3630e-03, -2.1916e-02,\n",
       "          2.2670e-02, -1.5766e-02,  3.4906e-02, -2.3063e-02, -6.8216e-03,\n",
       "          2.7051e-02, -1.3991e-02,  9.7218e-03, -9.9075e-04,  1.6625e-03,\n",
       "          2.3455e-02, -2.5294e-02,  4.8019e-06, -2.5339e-02, -1.7412e-02,\n",
       "         -1.6342e-02,  2.6164e-03, -1.8025e-02,  2.5939e-02,  2.3884e-03,\n",
       "          1.1857e-03, -2.0811e-03, -1.4417e-03,  2.2246e-02, -2.7703e-02,\n",
       "          1.9103e-02,  1.7750e-02, -4.5987e-03, -5.7228e-03,  1.1429e-02,\n",
       "         -1.9616e-02,  1.0336e-04,  2.3019e-02, -1.9994e-02,  1.5292e-03,\n",
       "         -3.4574e-02, -2.8799e-02,  1.0611e-02, -1.4141e-02, -2.3886e-02,\n",
       "          2.2307e-02, -3.0040e-02, -2.8897e-02, -9.2013e-03, -3.6146e-03,\n",
       "          3.4074e-03,  7.3265e-03, -1.7886e-02, -1.8164e-02, -1.9736e-02,\n",
       "         -3.0381e-02, -1.5204e-02,  2.4328e-02, -2.2534e-02,  4.2453e-04,\n",
       "          2.7948e-02,  1.3828e-03,  3.3543e-02, -3.3373e-02, -6.0236e-04,\n",
       "          1.1359e-02,  3.2776e-02, -3.6375e-03, -2.7758e-02, -4.0390e-03,\n",
       "         -1.8094e-03, -2.1388e-02,  1.8606e-03, -1.4006e-02, -2.9517e-02,\n",
       "         -1.6692e-02, -7.7352e-03, -1.9986e-02,  1.8643e-02, -2.0421e-02,\n",
       "          1.1466e-02, -2.7346e-02,  2.3264e-03, -3.3796e-02,  1.1720e-02],\n",
       "        requires_grad=True), Parameter containing:\n",
       " tensor([[-4.4030e-02, -4.0902e-02, -2.7658e-03, -7.5691e-02,  4.7223e-02,\n",
       "           2.0091e-02,  5.2066e-03,  2.9781e-02,  2.0557e-02, -3.9398e-02,\n",
       "          -4.3418e-02, -4.2620e-02,  2.0538e-02, -6.9487e-02, -1.0267e-03,\n",
       "           6.5385e-02, -2.4658e-03,  8.2882e-02,  5.6582e-02, -9.1259e-02,\n",
       "          -8.1402e-02,  9.4457e-02,  4.5791e-02, -9.5087e-02,  1.7097e-02,\n",
       "           4.3891e-02,  3.8794e-02,  2.8788e-02,  2.2401e-02, -6.5288e-02,\n",
       "           4.3317e-02,  2.0658e-02, -8.5607e-02, -5.5555e-02,  6.7581e-02,\n",
       "          -3.3979e-03,  9.5181e-02,  5.3261e-02, -5.3859e-02,  7.1806e-03,\n",
       "          -8.9716e-02, -5.7855e-02, -9.5984e-02, -8.0224e-02, -3.1562e-03,\n",
       "          -6.7034e-02, -9.0357e-02, -7.6925e-02, -8.4575e-02,  3.1875e-02,\n",
       "          -3.9122e-02,  2.7084e-02, -3.2642e-02, -3.9497e-02, -7.0178e-03,\n",
       "          -1.7398e-02,  5.8693e-02, -5.4878e-02,  4.2710e-02, -7.1184e-02,\n",
       "          -2.8224e-02, -4.4826e-02,  1.3082e-02,  4.7396e-02,  4.2165e-02,\n",
       "          -1.4485e-02,  6.3214e-02, -1.7163e-02, -5.6876e-02,  7.2040e-02,\n",
       "           4.9951e-02,  1.3729e-02,  1.6482e-02,  6.9580e-02, -8.0455e-03,\n",
       "           2.9021e-02,  5.1953e-03, -8.5754e-02, -7.1343e-02, -9.8854e-02,\n",
       "          -1.2864e-02, -8.1402e-02, -8.8800e-02, -7.0611e-02, -8.5149e-02,\n",
       "           2.2577e-02, -1.7917e-02,  3.4979e-02,  3.6967e-02,  2.0696e-03,\n",
       "          -4.5241e-02, -5.2543e-02,  8.7695e-02, -9.6897e-02, -4.1911e-02,\n",
       "           8.3253e-02,  1.9033e-02,  8.5772e-02, -9.1113e-02, -4.6074e-02],\n",
       "         [ 2.8562e-02, -9.7789e-02,  9.9616e-02,  1.0313e-02,  1.8937e-03,\n",
       "          -2.8054e-02,  5.7647e-02,  7.5185e-03, -7.6182e-02,  4.7473e-02,\n",
       "           9.2353e-02,  8.7539e-02,  4.3655e-02, -8.8865e-02,  5.0226e-02,\n",
       "           2.9909e-02, -9.6574e-02, -3.5466e-02, -9.3904e-02, -4.4798e-02,\n",
       "          -3.3621e-02, -6.5826e-02,  3.6287e-02, -3.3913e-02, -8.2384e-02,\n",
       "          -8.0630e-02, -3.6251e-02,  3.2257e-02, -1.7082e-02,  6.7202e-03,\n",
       "           4.9823e-02,  8.7775e-02, -5.6468e-02,  9.9253e-02,  9.1745e-02,\n",
       "           6.8144e-02,  6.4052e-02,  4.7919e-02, -9.1159e-02,  6.4923e-02,\n",
       "           6.1755e-04,  2.4259e-02, -5.2861e-02, -8.0466e-02, -7.4763e-02,\n",
       "          -2.4290e-02,  8.2725e-02, -5.2735e-02, -1.6988e-02,  8.4985e-03,\n",
       "          -6.6479e-02, -6.3317e-02,  2.7013e-02,  7.6525e-02, -9.6293e-02,\n",
       "          -2.3882e-02, -2.4638e-02, -1.5677e-02,  8.6723e-02,  1.1229e-02,\n",
       "          -3.8456e-02, -9.1262e-03, -1.0519e-02, -9.5751e-02, -1.0230e-02,\n",
       "           2.0495e-02,  1.0166e-02,  1.6618e-02, -7.6543e-02, -1.9185e-02,\n",
       "           3.6591e-03, -4.8461e-02, -3.9484e-02,  4.6251e-02,  6.8032e-02,\n",
       "          -6.6524e-02, -1.0022e-02, -4.8116e-02, -9.9494e-02, -7.2708e-02,\n",
       "           4.8695e-02, -5.4311e-02,  5.3059e-02, -5.1349e-02, -5.3362e-02,\n",
       "           5.6112e-04,  5.6536e-02,  7.5848e-02,  8.7638e-02, -2.6691e-02,\n",
       "           5.4360e-02, -9.7876e-02, -2.8115e-03,  7.7884e-03,  7.6152e-03,\n",
       "           2.9289e-02,  5.4671e-02,  6.9147e-02, -2.9804e-03, -5.5532e-02],\n",
       "         [-5.8062e-02, -1.6233e-02,  5.9640e-02,  3.8012e-02, -7.7325e-02,\n",
       "           5.2889e-02,  4.9676e-02, -8.6207e-02,  1.2076e-02, -6.6163e-02,\n",
       "          -8.3880e-02,  1.7198e-02, -3.7479e-02,  8.4232e-02, -5.0198e-02,\n",
       "           2.3431e-02, -2.2310e-02, -6.4360e-02, -2.8851e-02,  3.1953e-02,\n",
       "           3.2718e-02, -1.6766e-02, -9.4292e-02, -1.6340e-02,  4.0565e-02,\n",
       "          -5.5432e-02,  4.2336e-02,  9.1535e-02, -7.2934e-02,  7.0494e-02,\n",
       "          -7.4497e-02,  1.4436e-02, -5.1857e-03,  7.7257e-02,  2.4613e-02,\n",
       "          -2.3095e-02, -4.3948e-03,  1.7421e-02, -3.5985e-02,  1.2784e-02,\n",
       "          -6.0356e-02, -1.7307e-02, -2.0917e-03,  3.3032e-02, -6.1410e-02,\n",
       "           7.9608e-02,  2.7768e-02, -3.4363e-02, -6.1100e-02, -3.1468e-02,\n",
       "          -3.9813e-02,  3.5793e-02,  2.9954e-03,  1.8687e-02, -7.1464e-02,\n",
       "           1.8687e-02,  6.9480e-02,  8.6373e-02, -5.5390e-02,  1.6557e-02,\n",
       "           1.9878e-02,  8.0226e-02, -2.1137e-02,  9.2464e-02, -2.0413e-02,\n",
       "          -9.3492e-02,  9.0216e-02, -9.9643e-03, -4.5676e-02, -7.2762e-02,\n",
       "           9.5185e-02, -3.5671e-02, -5.7421e-02,  9.6054e-02, -1.0582e-02,\n",
       "           3.5247e-02,  4.4829e-04,  6.2995e-02, -7.0383e-02,  5.9155e-02,\n",
       "           9.5140e-02, -6.1451e-02,  7.1062e-02, -3.1055e-02,  6.2909e-02,\n",
       "           9.0056e-02, -5.9558e-02, -6.3497e-02, -7.2795e-02,  6.3794e-02,\n",
       "          -7.1646e-02, -5.9375e-03,  9.2007e-02, -2.3524e-02,  6.7093e-02,\n",
       "          -9.6363e-02,  8.5956e-02, -5.4083e-02,  4.6875e-02, -7.0707e-02],\n",
       "         [-9.9884e-02, -2.0566e-03, -9.2505e-03,  1.2659e-05,  5.7482e-02,\n",
       "           9.8647e-02,  5.9621e-02, -5.6918e-02, -2.3541e-02,  8.5597e-02,\n",
       "           3.2887e-02, -1.2115e-02,  6.3024e-02, -4.1736e-03,  1.5560e-02,\n",
       "          -3.6098e-02, -2.9918e-02,  9.7293e-02, -3.3788e-02,  6.5262e-02,\n",
       "          -6.2560e-03,  8.2679e-02, -3.4145e-02, -4.2508e-02,  9.3023e-02,\n",
       "           1.6028e-02, -7.6950e-02,  6.5384e-02,  6.1429e-02,  7.9440e-02,\n",
       "          -2.2314e-02, -8.0422e-02, -2.0729e-02, -4.6973e-02, -8.5903e-02,\n",
       "           8.3461e-02,  5.4504e-03,  6.4838e-02, -4.3093e-02, -1.4715e-02,\n",
       "           9.2161e-02, -1.6137e-02,  4.7117e-02,  4.8628e-02,  4.7408e-02,\n",
       "          -9.9202e-02, -9.7989e-02,  4.2185e-02,  6.1507e-02,  9.3029e-02,\n",
       "           2.3039e-02, -8.1951e-02,  4.2035e-02,  5.3145e-02,  1.7351e-02,\n",
       "           2.6871e-02,  3.6373e-02, -4.5585e-02, -7.1108e-02, -6.8185e-03,\n",
       "          -8.1368e-02,  4.8340e-02,  1.8260e-02, -7.0928e-02, -3.2509e-02,\n",
       "           3.3479e-02, -8.1458e-02,  7.4082e-03,  7.0904e-02, -8.2055e-02,\n",
       "          -4.5267e-02, -9.7422e-02,  6.2716e-02,  3.1780e-02,  2.6002e-02,\n",
       "           3.5429e-02, -2.8131e-02, -7.5722e-02,  8.6744e-02,  6.9950e-02,\n",
       "          -4.4811e-03, -3.7405e-02,  8.7347e-02,  2.9528e-02,  2.4509e-02,\n",
       "          -7.9858e-02,  1.0490e-03,  8.5361e-02, -6.4963e-03,  8.6767e-02,\n",
       "           1.9172e-03, -4.7197e-02, -9.4302e-02, -1.1154e-04,  4.4796e-02,\n",
       "           9.0297e-02, -4.5391e-02, -8.2952e-03, -8.3752e-04,  1.0406e-02],\n",
       "         [-8.3833e-02, -1.6800e-02, -1.8120e-02,  2.4787e-02,  1.5949e-02,\n",
       "          -3.6587e-02, -4.0931e-02, -2.8362e-02, -6.2916e-02,  9.5074e-04,\n",
       "           3.7527e-02, -7.5627e-02, -9.0116e-02, -4.8229e-02,  4.8008e-02,\n",
       "          -8.3595e-02, -7.4236e-02, -7.7821e-02, -6.1297e-02, -1.0876e-02,\n",
       "          -7.7140e-02,  9.9012e-02, -5.8988e-02,  9.1224e-02,  8.5215e-02,\n",
       "          -6.2058e-02, -9.7728e-02,  6.1797e-02,  8.5920e-02, -4.6782e-02,\n",
       "           4.5797e-02, -3.4127e-02, -2.6734e-02,  5.0654e-02,  8.0230e-02,\n",
       "          -6.8283e-04,  4.4868e-02,  9.9643e-02, -7.7270e-03, -6.9289e-03,\n",
       "           7.8843e-02, -6.2620e-02,  4.6331e-02,  3.5543e-02,  4.4476e-02,\n",
       "           6.4701e-02,  5.5111e-02, -1.3538e-02, -5.7666e-02,  3.1949e-02,\n",
       "          -7.4435e-02, -1.0555e-02, -2.9269e-02,  7.6828e-02,  6.0613e-02,\n",
       "          -1.0246e-02, -7.7053e-02, -8.1615e-02,  7.8583e-02, -3.7298e-02,\n",
       "           9.8287e-02, -8.7990e-02,  8.5202e-02,  7.3779e-02, -7.5497e-02,\n",
       "          -5.0194e-02,  1.7486e-02, -8.1503e-02,  4.3283e-02,  3.1912e-02,\n",
       "           3.3300e-02,  8.4082e-02, -1.5393e-02, -1.0400e-02, -5.7354e-02,\n",
       "           6.4003e-02,  7.5777e-02,  8.7583e-02,  1.0506e-02, -1.0069e-02,\n",
       "           4.6248e-02,  6.8776e-02,  9.1238e-02,  8.2242e-02, -6.3215e-02,\n",
       "          -2.2493e-03,  5.6948e-02, -1.4380e-02,  9.5676e-02,  9.8546e-02,\n",
       "           3.5439e-02, -6.1159e-02, -3.4391e-02,  4.1154e-02, -4.9081e-02,\n",
       "          -8.1823e-02, -1.6583e-02, -7.9054e-02, -8.9295e-02,  6.5986e-02],\n",
       "         [-4.6052e-02, -5.7329e-02, -6.9434e-02,  8.0967e-02, -1.9942e-02,\n",
       "          -5.2907e-02,  3.7663e-03, -6.5540e-02,  7.4881e-03, -7.2165e-02,\n",
       "          -5.0908e-03,  5.9958e-02,  7.3126e-02,  7.8212e-02,  9.5219e-02,\n",
       "          -5.8539e-02, -5.7033e-02,  5.0800e-02,  2.9198e-02,  5.7162e-02,\n",
       "           5.8643e-02,  2.4181e-02,  9.6798e-02, -7.2006e-02, -4.8288e-02,\n",
       "           9.8164e-02, -1.4304e-02,  8.4005e-02, -4.1074e-02,  4.0151e-03,\n",
       "          -2.9527e-02,  8.0418e-02,  4.4058e-02,  1.3534e-02,  2.5140e-02,\n",
       "           2.1768e-02, -9.8031e-02, -6.6325e-02, -3.6608e-02,  2.1682e-02,\n",
       "           8.6108e-02, -5.5307e-02,  2.1730e-02,  2.3178e-02, -2.4123e-02,\n",
       "          -6.6951e-03, -7.9057e-02,  8.1677e-02, -1.8746e-02, -3.1030e-02,\n",
       "           1.0893e-02, -5.3572e-02, -6.3206e-02, -2.8532e-02,  4.3749e-02,\n",
       "          -5.8695e-02,  9.5919e-03, -9.0220e-03,  6.0012e-02, -5.8548e-03,\n",
       "          -1.3501e-02,  7.4022e-02, -9.2908e-02, -1.4278e-02,  5.1928e-02,\n",
       "          -9.1766e-02,  7.3883e-02,  9.7954e-02,  2.0665e-02, -4.6826e-02,\n",
       "           3.8851e-02, -3.2427e-02, -2.0750e-02, -6.1963e-02, -6.8082e-02,\n",
       "           5.1893e-02,  7.8080e-02,  2.3663e-02,  9.9957e-02, -1.9962e-02,\n",
       "          -8.7717e-02, -5.7643e-02,  6.9828e-02,  1.4412e-02,  4.3624e-02,\n",
       "          -6.7853e-02, -8.7193e-02, -7.1548e-02, -5.8304e-02,  9.1487e-02,\n",
       "           8.0201e-02, -3.5304e-02,  5.6775e-02,  8.3264e-02,  6.6919e-02,\n",
       "           3.7993e-02,  5.4683e-03, -3.5126e-02,  6.6001e-03,  2.9616e-02],\n",
       "         [ 9.1658e-02,  9.4709e-02,  1.5736e-02,  2.2302e-02,  4.6048e-02,\n",
       "           1.2184e-02,  4.9628e-03,  7.0882e-02, -1.3095e-03,  6.4723e-02,\n",
       "           7.9142e-02,  1.6253e-02, -1.9196e-02,  4.3337e-02, -5.8832e-02,\n",
       "          -3.2178e-02, -6.3990e-02,  4.7409e-02, -2.7614e-02,  1.7234e-02,\n",
       "          -1.0813e-02, -1.4974e-02,  2.3524e-02,  8.9089e-02, -3.2056e-02,\n",
       "           7.2992e-02, -6.9731e-02,  8.7564e-02, -8.0852e-02, -6.2523e-02,\n",
       "          -7.4421e-02,  4.1387e-02, -7.6536e-02, -4.0783e-02, -6.2073e-02,\n",
       "          -1.3144e-03,  7.2717e-02,  8.8049e-02,  9.7246e-03,  7.4112e-02,\n",
       "          -8.7396e-02,  2.9497e-02,  5.1279e-02, -7.4738e-02, -3.1917e-02,\n",
       "           4.6675e-02, -5.1561e-02, -6.6641e-03,  6.4942e-03,  7.4746e-02,\n",
       "           9.1743e-02,  2.8841e-02, -1.4908e-02, -7.4951e-02,  6.2403e-03,\n",
       "           2.7113e-02, -5.0571e-02,  1.4710e-02,  6.0440e-02, -7.6236e-02,\n",
       "           9.0964e-02,  4.2240e-02, -6.1111e-03, -2.5226e-02,  3.2602e-02,\n",
       "          -7.5661e-02,  8.3860e-03, -4.4427e-02, -6.7322e-02,  4.4364e-02,\n",
       "           5.9016e-02,  8.1961e-02,  3.3115e-02, -4.0448e-02, -7.3765e-02,\n",
       "           9.2396e-02, -4.5676e-02,  9.7899e-02,  3.1652e-02, -9.1355e-03,\n",
       "          -7.1571e-02, -1.3682e-02,  7.2462e-02, -4.6750e-02,  6.0865e-02,\n",
       "          -4.6380e-02, -8.9269e-02,  6.8284e-02,  3.6599e-02, -4.0685e-02,\n",
       "           5.8471e-02,  7.1903e-02,  4.0558e-02,  8.0305e-02,  8.1107e-02,\n",
       "          -8.6739e-02, -9.7542e-02,  6.3673e-02, -9.2271e-02, -1.9315e-02],\n",
       "         [-4.6198e-02, -3.2290e-02, -3.0544e-02, -9.5010e-02,  3.8223e-02,\n",
       "           5.5294e-02,  4.9098e-02,  7.6608e-02, -8.0285e-02,  6.2018e-02,\n",
       "          -5.3086e-02,  3.0058e-02, -2.2902e-03, -6.1048e-03, -4.9441e-02,\n",
       "          -5.9305e-02,  3.3375e-03,  3.5207e-02,  6.2350e-02, -4.4059e-02,\n",
       "          -8.4517e-04, -8.6304e-02,  5.4937e-02, -6.0786e-02,  3.9300e-02,\n",
       "          -7.0746e-03,  7.5575e-03,  1.6690e-02,  9.7747e-02, -9.1711e-02,\n",
       "           6.9647e-02, -4.7292e-02,  6.8328e-02,  7.7011e-02, -1.1921e-02,\n",
       "           8.2020e-02,  8.4751e-02,  3.6825e-03,  9.3275e-02, -2.9666e-02,\n",
       "          -9.1267e-02, -8.1389e-02,  3.3100e-02,  6.4213e-02,  8.2357e-02,\n",
       "           5.5568e-02,  6.8318e-02, -1.3603e-02,  2.9641e-04,  8.3104e-02,\n",
       "          -2.4244e-02,  4.1599e-02, -2.7592e-02, -4.9556e-02,  5.1370e-02,\n",
       "          -9.9622e-02,  4.8358e-02, -3.7281e-04, -7.3551e-03, -6.0729e-02,\n",
       "           9.5725e-02,  1.6859e-02,  1.2552e-02,  8.2822e-02, -5.8674e-03,\n",
       "           6.0212e-02,  9.1049e-02, -4.2251e-02,  9.4970e-04,  9.7892e-02,\n",
       "          -5.9672e-02,  6.4663e-02, -6.1649e-02, -7.8423e-02, -9.9728e-02,\n",
       "           1.5248e-02,  7.8801e-03,  4.2608e-03,  1.0335e-02, -9.8835e-02,\n",
       "          -2.1486e-02, -5.8640e-03, -5.1451e-02,  2.8623e-02,  7.4678e-02,\n",
       "           5.7444e-02, -9.5586e-04,  9.2813e-02, -8.9171e-02,  6.2987e-02,\n",
       "           4.5349e-02,  3.2147e-02,  6.9089e-02,  9.8212e-02,  9.4147e-02,\n",
       "          -9.4832e-02,  8.1579e-02, -7.1328e-02, -1.0579e-02,  2.5450e-02],\n",
       "         [-2.0891e-02, -6.0200e-03,  2.5615e-02, -1.7990e-02, -4.4823e-02,\n",
       "           2.3133e-02,  2.7158e-02, -2.7425e-02, -8.8589e-02,  5.5512e-03,\n",
       "          -6.2966e-02,  8.8285e-02,  1.2188e-02,  3.6578e-02,  6.4057e-02,\n",
       "           2.6910e-02,  8.8557e-02, -4.2429e-02, -4.2300e-02, -8.4609e-02,\n",
       "           7.7359e-02,  4.4733e-02, -5.5614e-03,  2.1624e-02,  4.7043e-02,\n",
       "          -8.8673e-02,  1.0857e-03, -9.5129e-02,  6.8912e-02, -2.1803e-02,\n",
       "           2.6299e-02, -5.5845e-02,  2.7732e-02, -1.0555e-02, -4.8043e-02,\n",
       "          -5.9004e-02,  7.6596e-02, -6.0483e-02, -7.3551e-02, -6.5031e-02,\n",
       "           2.0799e-02, -7.2074e-02, -4.2507e-02,  5.0316e-02,  7.6159e-02,\n",
       "           3.6825e-02,  1.6714e-02, -9.0212e-02,  1.8672e-02,  2.7955e-02,\n",
       "          -1.2733e-02, -4.5933e-02,  5.4120e-02, -1.3092e-02, -8.3096e-02,\n",
       "           7.8286e-02,  8.5046e-02,  8.6231e-02,  2.0992e-02,  1.5767e-02,\n",
       "          -3.1872e-02,  5.8948e-02, -1.4357e-02,  5.2033e-02,  3.7963e-02,\n",
       "           5.1407e-02, -7.3431e-02,  5.3929e-02,  2.0105e-02,  9.9624e-02,\n",
       "          -1.7876e-02,  6.0013e-02, -5.3841e-02, -3.8886e-02, -3.2458e-02,\n",
       "           2.0245e-02, -1.2786e-02, -7.3796e-02, -5.1257e-02, -9.3105e-02,\n",
       "           5.3524e-02,  2.9062e-02,  6.2409e-02,  1.5023e-02,  5.3282e-02,\n",
       "           6.6994e-02,  5.3158e-02, -8.6123e-02, -8.5278e-02,  6.5582e-02,\n",
       "          -4.3465e-02,  4.4255e-02, -4.5839e-02,  5.9404e-02,  6.6008e-02,\n",
       "           6.7964e-02, -2.4449e-02, -7.3628e-02,  8.2040e-02,  7.7660e-02],\n",
       "         [-9.8090e-02,  2.3876e-02, -8.2799e-02, -7.0161e-02,  1.3677e-02,\n",
       "           6.1290e-02, -4.8976e-04, -2.8927e-03,  6.0759e-02, -8.4032e-03,\n",
       "          -3.1913e-02,  7.0797e-02,  8.9694e-02,  7.0325e-02,  6.5696e-02,\n",
       "          -1.5075e-02, -6.6608e-02,  7.0226e-02, -9.6515e-02, -1.0970e-02,\n",
       "          -7.4666e-02,  2.0471e-03,  7.9205e-02, -5.1160e-02, -8.5243e-02,\n",
       "          -8.7755e-02, -4.8625e-02,  6.3410e-02,  4.8973e-02, -3.0467e-02,\n",
       "           5.1149e-02, -6.8542e-04, -5.4671e-02,  7.0579e-02, -1.1052e-02,\n",
       "           3.7288e-02,  1.3069e-03,  6.5359e-02, -4.5996e-02,  1.3190e-03,\n",
       "           7.8334e-02, -3.5620e-02, -9.9353e-02, -3.0465e-03, -6.0722e-02,\n",
       "          -9.8107e-02, -3.9692e-02,  9.0779e-02, -2.8267e-02, -9.7357e-02,\n",
       "           6.7106e-02,  1.4171e-02,  6.0091e-02, -4.2909e-03,  6.2227e-02,\n",
       "           2.0596e-02, -9.5249e-03,  7.1651e-02, -9.0290e-02,  5.0313e-02,\n",
       "           7.2475e-02, -7.2112e-02,  8.7810e-02, -8.1037e-02, -2.8049e-02,\n",
       "           7.4033e-02, -6.5308e-02,  9.4824e-02, -7.8563e-03,  2.1731e-02,\n",
       "           5.2775e-02,  3.0641e-03, -5.3218e-02,  6.5832e-02,  6.4242e-03,\n",
       "           7.5386e-02,  9.0389e-02,  3.9998e-02, -7.2098e-03,  4.1883e-02,\n",
       "          -6.8180e-03, -3.5155e-02,  8.9635e-02, -3.1142e-02,  5.8973e-02,\n",
       "           9.9291e-02, -6.8097e-02, -7.9742e-02, -6.8372e-02,  7.2811e-02,\n",
       "           9.2736e-02, -5.7095e-02,  3.8777e-02, -2.4662e-03, -4.7575e-02,\n",
       "          -4.8032e-02, -2.5639e-02,  7.4412e-02, -8.6548e-02, -4.4684e-02]],\n",
       "        requires_grad=True), Parameter containing:\n",
       " tensor([ 0.0935, -0.0211, -0.0509,  0.0983,  0.0549,  0.0581, -0.0937, -0.0555,\n",
       "          0.0050, -0.0360], requires_grad=True)]"
      ]
     },
     "execution_count": 24,
     "metadata": {},
     "output_type": "execute_result"
    }
   ],
   "source": [
    "device = torch.device('cuda:0' if torch.cuda.is_available() else 'cpu')\n",
    "mnist_net = mnist_net.to(device) #перекладываем параметры нейронной сети на видеокарту\n",
    "list(mnist_net.parameters())"
   ]
  },
  {
   "cell_type": "markdown",
   "metadata": {},
   "source": [
    "## Обучение"
   ]
  },
  {
   "cell_type": "code",
   "execution_count": 25,
   "metadata": {
    "colab": {},
    "colab_type": "code",
    "id": "00_2j2igpS3o"
   },
   "outputs": [],
   "source": [
    "loss = torch.nn.CrossEntropyLoss() #на входи принимает выходы до софтмакса (соединяе кросс-энтропию и софтмакс в одну функцию)\n",
    "optimizer = torch.optim.Adam(mnist_net.parameters(), lr=1.0e-3)"
   ]
  },
  {
   "cell_type": "code",
   "execution_count": 21,
   "metadata": {
    "colab": {},
    "colab_type": "code",
    "id": "wZtqiGvfpS3r"
   },
   "outputs": [
    {
     "name": "stdout",
     "output_type": "stream",
     "text": [
      "tensor(0.9451)\n",
      "tensor(0.9444)\n",
      "tensor(0.9468)\n"
     ]
    },
    {
     "ename": "KeyboardInterrupt",
     "evalue": "",
     "output_type": "error",
     "traceback": [
      "\u001b[0;31m---------------------------------------------------------------------------\u001b[0m",
      "\u001b[0;31mKeyboardInterrupt\u001b[0m                         Traceback (most recent call last)",
      "\u001b[0;32m<ipython-input-21-f16940f000e1>\u001b[0m in \u001b[0;36m<module>\u001b[0;34m\u001b[0m\n\u001b[1;32m     18\u001b[0m         \u001b[0my_batch\u001b[0m \u001b[0;34m=\u001b[0m \u001b[0my_train\u001b[0m\u001b[0;34m[\u001b[0m\u001b[0mbatch_indexes\u001b[0m\u001b[0;34m]\u001b[0m\u001b[0;34m.\u001b[0m\u001b[0mto\u001b[0m\u001b[0;34m(\u001b[0m\u001b[0mdevice\u001b[0m\u001b[0;34m)\u001b[0m\u001b[0;34m\u001b[0m\u001b[0;34m\u001b[0m\u001b[0m\n\u001b[1;32m     19\u001b[0m \u001b[0;34m\u001b[0m\u001b[0m\n\u001b[0;32m---> 20\u001b[0;31m         \u001b[0mpreds\u001b[0m \u001b[0;34m=\u001b[0m \u001b[0mmnist_net\u001b[0m\u001b[0;34m.\u001b[0m\u001b[0mforward\u001b[0m\u001b[0;34m(\u001b[0m\u001b[0mX_batch\u001b[0m\u001b[0;34m)\u001b[0m\u001b[0;34m\u001b[0m\u001b[0;34m\u001b[0m\u001b[0m\n\u001b[0m\u001b[1;32m     21\u001b[0m \u001b[0;34m\u001b[0m\u001b[0m\n\u001b[1;32m     22\u001b[0m         \u001b[0mloss_value\u001b[0m \u001b[0;34m=\u001b[0m \u001b[0mloss\u001b[0m\u001b[0;34m(\u001b[0m\u001b[0mpreds\u001b[0m\u001b[0;34m,\u001b[0m \u001b[0my_batch\u001b[0m\u001b[0;34m)\u001b[0m\u001b[0;34m\u001b[0m\u001b[0;34m\u001b[0m\u001b[0m\n",
      "\u001b[0;32m<ipython-input-10-0c16988f3473>\u001b[0m in \u001b[0;36mforward\u001b[0;34m(self, x)\u001b[0m\n\u001b[1;32m      7\u001b[0m \u001b[0;34m\u001b[0m\u001b[0m\n\u001b[1;32m      8\u001b[0m     \u001b[0;32mdef\u001b[0m \u001b[0mforward\u001b[0m\u001b[0;34m(\u001b[0m\u001b[0mself\u001b[0m\u001b[0;34m,\u001b[0m \u001b[0mx\u001b[0m\u001b[0;34m)\u001b[0m\u001b[0;34m:\u001b[0m\u001b[0;34m\u001b[0m\u001b[0;34m\u001b[0m\u001b[0m\n\u001b[0;32m----> 9\u001b[0;31m         \u001b[0mx\u001b[0m \u001b[0;34m=\u001b[0m \u001b[0mself\u001b[0m\u001b[0;34m.\u001b[0m\u001b[0mfc1\u001b[0m\u001b[0;34m(\u001b[0m\u001b[0mx\u001b[0m\u001b[0;34m)\u001b[0m\u001b[0;34m\u001b[0m\u001b[0;34m\u001b[0m\u001b[0m\n\u001b[0m\u001b[1;32m     10\u001b[0m         \u001b[0mx\u001b[0m \u001b[0;34m=\u001b[0m \u001b[0mself\u001b[0m\u001b[0;34m.\u001b[0m\u001b[0mac1\u001b[0m\u001b[0;34m(\u001b[0m\u001b[0mx\u001b[0m\u001b[0;34m)\u001b[0m\u001b[0;34m\u001b[0m\u001b[0;34m\u001b[0m\u001b[0m\n\u001b[1;32m     11\u001b[0m         \u001b[0mx\u001b[0m \u001b[0;34m=\u001b[0m \u001b[0mself\u001b[0m\u001b[0;34m.\u001b[0m\u001b[0mfc2\u001b[0m\u001b[0;34m(\u001b[0m\u001b[0mx\u001b[0m\u001b[0;34m)\u001b[0m\u001b[0;34m\u001b[0m\u001b[0;34m\u001b[0m\u001b[0m\n",
      "\u001b[0;32m~/anaconda3/lib/python3.7/site-packages/torch/nn/modules/module.py\u001b[0m in \u001b[0;36m__call__\u001b[0;34m(self, *input, **kwargs)\u001b[0m\n\u001b[1;32m    530\u001b[0m             \u001b[0mresult\u001b[0m \u001b[0;34m=\u001b[0m \u001b[0mself\u001b[0m\u001b[0;34m.\u001b[0m\u001b[0m_slow_forward\u001b[0m\u001b[0;34m(\u001b[0m\u001b[0;34m*\u001b[0m\u001b[0minput\u001b[0m\u001b[0;34m,\u001b[0m \u001b[0;34m**\u001b[0m\u001b[0mkwargs\u001b[0m\u001b[0;34m)\u001b[0m\u001b[0;34m\u001b[0m\u001b[0;34m\u001b[0m\u001b[0m\n\u001b[1;32m    531\u001b[0m         \u001b[0;32melse\u001b[0m\u001b[0;34m:\u001b[0m\u001b[0;34m\u001b[0m\u001b[0;34m\u001b[0m\u001b[0m\n\u001b[0;32m--> 532\u001b[0;31m             \u001b[0mresult\u001b[0m \u001b[0;34m=\u001b[0m \u001b[0mself\u001b[0m\u001b[0;34m.\u001b[0m\u001b[0mforward\u001b[0m\u001b[0;34m(\u001b[0m\u001b[0;34m*\u001b[0m\u001b[0minput\u001b[0m\u001b[0;34m,\u001b[0m \u001b[0;34m**\u001b[0m\u001b[0mkwargs\u001b[0m\u001b[0;34m)\u001b[0m\u001b[0;34m\u001b[0m\u001b[0;34m\u001b[0m\u001b[0m\n\u001b[0m\u001b[1;32m    533\u001b[0m         \u001b[0;32mfor\u001b[0m \u001b[0mhook\u001b[0m \u001b[0;32min\u001b[0m \u001b[0mself\u001b[0m\u001b[0;34m.\u001b[0m\u001b[0m_forward_hooks\u001b[0m\u001b[0;34m.\u001b[0m\u001b[0mvalues\u001b[0m\u001b[0;34m(\u001b[0m\u001b[0;34m)\u001b[0m\u001b[0;34m:\u001b[0m\u001b[0;34m\u001b[0m\u001b[0;34m\u001b[0m\u001b[0m\n\u001b[1;32m    534\u001b[0m             \u001b[0mhook_result\u001b[0m \u001b[0;34m=\u001b[0m \u001b[0mhook\u001b[0m\u001b[0;34m(\u001b[0m\u001b[0mself\u001b[0m\u001b[0;34m,\u001b[0m \u001b[0minput\u001b[0m\u001b[0;34m,\u001b[0m \u001b[0mresult\u001b[0m\u001b[0;34m)\u001b[0m\u001b[0;34m\u001b[0m\u001b[0;34m\u001b[0m\u001b[0m\n",
      "\u001b[0;32m~/anaconda3/lib/python3.7/site-packages/torch/nn/modules/linear.py\u001b[0m in \u001b[0;36mforward\u001b[0;34m(self, input)\u001b[0m\n\u001b[1;32m     85\u001b[0m \u001b[0;34m\u001b[0m\u001b[0m\n\u001b[1;32m     86\u001b[0m     \u001b[0;32mdef\u001b[0m \u001b[0mforward\u001b[0m\u001b[0;34m(\u001b[0m\u001b[0mself\u001b[0m\u001b[0;34m,\u001b[0m \u001b[0minput\u001b[0m\u001b[0;34m)\u001b[0m\u001b[0;34m:\u001b[0m\u001b[0;34m\u001b[0m\u001b[0;34m\u001b[0m\u001b[0m\n\u001b[0;32m---> 87\u001b[0;31m         \u001b[0;32mreturn\u001b[0m \u001b[0mF\u001b[0m\u001b[0;34m.\u001b[0m\u001b[0mlinear\u001b[0m\u001b[0;34m(\u001b[0m\u001b[0minput\u001b[0m\u001b[0;34m,\u001b[0m \u001b[0mself\u001b[0m\u001b[0;34m.\u001b[0m\u001b[0mweight\u001b[0m\u001b[0;34m,\u001b[0m \u001b[0mself\u001b[0m\u001b[0;34m.\u001b[0m\u001b[0mbias\u001b[0m\u001b[0;34m)\u001b[0m\u001b[0;34m\u001b[0m\u001b[0;34m\u001b[0m\u001b[0m\n\u001b[0m\u001b[1;32m     88\u001b[0m \u001b[0;34m\u001b[0m\u001b[0m\n\u001b[1;32m     89\u001b[0m     \u001b[0;32mdef\u001b[0m \u001b[0mextra_repr\u001b[0m\u001b[0;34m(\u001b[0m\u001b[0mself\u001b[0m\u001b[0;34m)\u001b[0m\u001b[0;34m:\u001b[0m\u001b[0;34m\u001b[0m\u001b[0;34m\u001b[0m\u001b[0m\n",
      "\u001b[0;32m~/anaconda3/lib/python3.7/site-packages/torch/nn/functional.py\u001b[0m in \u001b[0;36mlinear\u001b[0;34m(input, weight, bias)\u001b[0m\n\u001b[1;32m   1368\u001b[0m     \u001b[0;32mif\u001b[0m \u001b[0minput\u001b[0m\u001b[0;34m.\u001b[0m\u001b[0mdim\u001b[0m\u001b[0;34m(\u001b[0m\u001b[0;34m)\u001b[0m \u001b[0;34m==\u001b[0m \u001b[0;36m2\u001b[0m \u001b[0;32mand\u001b[0m \u001b[0mbias\u001b[0m \u001b[0;32mis\u001b[0m \u001b[0;32mnot\u001b[0m \u001b[0;32mNone\u001b[0m\u001b[0;34m:\u001b[0m\u001b[0;34m\u001b[0m\u001b[0;34m\u001b[0m\u001b[0m\n\u001b[1;32m   1369\u001b[0m         \u001b[0;31m# fused op is marginally faster\u001b[0m\u001b[0;34m\u001b[0m\u001b[0;34m\u001b[0m\u001b[0;34m\u001b[0m\u001b[0m\n\u001b[0;32m-> 1370\u001b[0;31m         \u001b[0mret\u001b[0m \u001b[0;34m=\u001b[0m \u001b[0mtorch\u001b[0m\u001b[0;34m.\u001b[0m\u001b[0maddmm\u001b[0m\u001b[0;34m(\u001b[0m\u001b[0mbias\u001b[0m\u001b[0;34m,\u001b[0m \u001b[0minput\u001b[0m\u001b[0;34m,\u001b[0m \u001b[0mweight\u001b[0m\u001b[0;34m.\u001b[0m\u001b[0mt\u001b[0m\u001b[0;34m(\u001b[0m\u001b[0;34m)\u001b[0m\u001b[0;34m)\u001b[0m\u001b[0;34m\u001b[0m\u001b[0;34m\u001b[0m\u001b[0m\n\u001b[0m\u001b[1;32m   1371\u001b[0m     \u001b[0;32melse\u001b[0m\u001b[0;34m:\u001b[0m\u001b[0;34m\u001b[0m\u001b[0;34m\u001b[0m\u001b[0m\n\u001b[1;32m   1372\u001b[0m         \u001b[0moutput\u001b[0m \u001b[0;34m=\u001b[0m \u001b[0minput\u001b[0m\u001b[0;34m.\u001b[0m\u001b[0mmatmul\u001b[0m\u001b[0;34m(\u001b[0m\u001b[0mweight\u001b[0m\u001b[0;34m.\u001b[0m\u001b[0mt\u001b[0m\u001b[0;34m(\u001b[0m\u001b[0;34m)\u001b[0m\u001b[0;34m)\u001b[0m\u001b[0;34m\u001b[0m\u001b[0;34m\u001b[0m\u001b[0m\n",
      "\u001b[0;31mKeyboardInterrupt\u001b[0m: "
     ]
    }
   ],
   "source": [
    "batch_size = 100\n",
    "\n",
    "test_accuracy_history = []\n",
    "test_loss_history = []\n",
    "\n",
    "X_test = X_test.to(device)\n",
    "y_test = y_test.to(device)\n",
    "\n",
    "for epoch in range(10000):\n",
    "    order = np.random.permutation(len(X_train))\n",
    "    \n",
    "    for start_index in range(0, len(X_train), batch_size):\n",
    "        optimizer.zero_grad()\n",
    "        \n",
    "        batch_indexes = order[start_index:start_index+batch_size]\n",
    "        \n",
    "        X_batch = X_train[batch_indexes].to(device) #будем перекладывать по бачам, чтобы не перегружать\n",
    "        y_batch = y_train[batch_indexes].to(device)\n",
    "        \n",
    "        preds = mnist_net.forward(X_batch) \n",
    "        \n",
    "        loss_value = loss(preds, y_batch)\n",
    "        \n",
    "        loss_value.backward()\n",
    "        \n",
    "        optimizer.step()\n",
    "\n",
    "    test_preds = mnist_net.forward(X_test) # делаем по всему датасету, так как он сильно меньше и поместится на видеокарту\n",
    "    test_loss_history.append(loss(test_preds, y_test))\n",
    "\n",
    "    accuracy = (test_preds.argmax(dim=1) == y_test).float().mean() #сравнение номера нейрона с максимальным выходои и тестовой меткой\n",
    "    test_accuracy_history.append(accuracy)\n",
    "    print(accuracy)"
   ]
  },
  {
   "cell_type": "code",
   "execution_count": 22,
   "metadata": {
    "colab": {},
    "colab_type": "code",
    "id": "kLnumX3SpS3u"
   },
   "outputs": [
    {
     "data": {
      "image/png": "[encoded data removed]",
      "text/plain": [
       "<Figure size 432x288 with 1 Axes>"
      ]
     },
     "metadata": {
      "needs_background": "light"
     },
     "output_type": "display_data"
    }
   ],
   "source": [
    "plt.plot(test_accuracy_history)\n",
    "#plt.plot(test_loss_history);"
   ]
  },
  {
   "cell_type": "code",
   "execution_count": null,
   "metadata": {
    "colab": {},
    "colab_type": "code",
    "id": "-nu1318JpS3y"
   },
   "outputs": [],
   "source": []
  }
 ],
 "metadata": {
  "accelerator": "GPU",
  "colab": {
   "collapsed_sections": [],
   "name": "Lesson 5 Digits Recognition Video.ipynb",
   "provenance": [],
   "version": "0.3.2"
  },
  "kernelspec": {
   "display_name": "Python 3",
   "language": "python",
   "name": "python3"
  },
  "language_info": {
   "codemirror_mode": {
    "name": "ipython",
    "version": 3
   },
   "file_extension": ".py",
   "mimetype": "text/x-python",
   "name": "python",
   "nbconvert_exporter": "python",
   "pygments_lexer": "ipython3",
   "version": "3.7.4"
  }
 },
 "nbformat": 4,
 "nbformat_minor": 1
}
